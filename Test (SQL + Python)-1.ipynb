{
 "cells": [
  {
   "cell_type": "markdown",
   "metadata": {
    "tags": []
   },
   "source": [
    "<div class=\"alert alert-info\"> \n",
    "В одной директории с .ipynb воркбуком должны быть файлы: \n",
    "     <strong> Test (SQL + Python)-1.ipynb; </strong> \n",
    "     <strong> test2.xlsx; </strong> \n",
    "     <strong> titanic.csv; </strong> \n",
    "     <strong> Titanic_hist.png; </strong> \n",
    "     <strong> Titanic_SR.png; </strong> \n",
    "     <strong> Шаблон 101.docx. </strong> \n",
    "</div>"
   ]
  },
  {
   "cell_type": "markdown",
   "metadata": {
    "tags": []
   },
   "source": [
    "<div class=\"alert alert-danger\"> Итоговый воркбук должен быть исполняем <strong> AS IS </strong> при наличии всех датасет файлов в директории. Фэйл исполнения == фэйл задания. </div>"
   ]
  },
  {
   "cell_type": "markdown",
   "metadata": {},
   "source": [
    "# Подготовка"
   ]
  },
  {
   "cell_type": "code",
   "execution_count": 1,
   "metadata": {},
   "outputs": [
    {
     "name": "stdout",
     "output_type": "stream",
     "text": [
      "Collecting pandasql\n",
      "  Using cached pandasql-0.7.3.tar.gz (26 kB)\n",
      "  Installing build dependencies: started\n",
      "  Installing build dependencies: finished with status 'done'\n",
      "  Getting requirements to build wheel: started\n",
      "  Getting requirements to build wheel: finished with status 'done'\n",
      "  Preparing metadata (pyproject.toml): started\n",
      "  Preparing metadata (pyproject.toml): finished with status 'done'\n",
      "Requirement already satisfied: numpy in d:\\slavik\\coding\\pycharmprojects\\analysis vk\\.venv\\lib\\site-packages (from pandasql) (2.0.0)\n",
      "Requirement already satisfied: pandas in d:\\slavik\\coding\\pycharmprojects\\analysis vk\\.venv\\lib\\site-packages (from pandasql) (2.2.2)\n",
      "Collecting sqlalchemy (from pandasql)\n",
      "  Downloading SQLAlchemy-2.0.31-cp310-cp310-win_amd64.whl.metadata (9.9 kB)\n",
      "Requirement already satisfied: python-dateutil>=2.8.2 in d:\\slavik\\coding\\pycharmprojects\\analysis vk\\.venv\\lib\\site-packages (from pandas->pandasql) (2.9.0.post0)\n",
      "Requirement already satisfied: pytz>=2020.1 in d:\\slavik\\coding\\pycharmprojects\\analysis vk\\.venv\\lib\\site-packages (from pandas->pandasql) (2024.1)\n",
      "Requirement already satisfied: tzdata>=2022.7 in d:\\slavik\\coding\\pycharmprojects\\analysis vk\\.venv\\lib\\site-packages (from pandas->pandasql) (2024.1)\n",
      "Requirement already satisfied: typing-extensions>=4.6.0 in d:\\slavik\\coding\\pycharmprojects\\analysis vk\\.venv\\lib\\site-packages (from sqlalchemy->pandasql) (4.12.2)\n",
      "Collecting greenlet!=0.4.17 (from sqlalchemy->pandasql)\n",
      "  Downloading greenlet-3.0.3-cp310-cp310-win_amd64.whl.metadata (3.9 kB)\n",
      "Requirement already satisfied: six>=1.5 in d:\\slavik\\coding\\pycharmprojects\\analysis vk\\.venv\\lib\\site-packages (from python-dateutil>=2.8.2->pandas->pandasql) (1.16.0)\n",
      "Downloading SQLAlchemy-2.0.31-cp310-cp310-win_amd64.whl (2.1 MB)\n",
      "   ---------------------------------------- 0.0/2.1 MB ? eta -:--:--\n",
      "    --------------------------------------- 0.0/2.1 MB ? eta -:--:--\n",
      "   --- ------------------------------------ 0.2/2.1 MB 2.2 MB/s eta 0:00:01\n",
      "   -------- ------------------------------- 0.5/2.1 MB 3.5 MB/s eta 0:00:01\n",
      "   ------------------- -------------------- 1.0/2.1 MB 5.9 MB/s eta 0:00:01\n",
      "   ---------------------------------------  2.1/2.1 MB 9.4 MB/s eta 0:00:01\n",
      "   ---------------------------------------- 2.1/2.1 MB 9.5 MB/s eta 0:00:00\n",
      "Downloading greenlet-3.0.3-cp310-cp310-win_amd64.whl (292 kB)\n",
      "   ---------------------------------------- 0.0/292.3 kB ? eta -:--:--\n",
      "   --------------------------------------- 292.3/292.3 kB 18.8 MB/s eta 0:00:00\n",
      "Building wheels for collected packages: pandasql\n",
      "  Building wheel for pandasql (pyproject.toml): started\n",
      "  Building wheel for pandasql (pyproject.toml): finished with status 'done'\n",
      "  Created wheel for pandasql: filename=pandasql-0.7.3-py3-none-any.whl size=26799 sha256=829ee8beb02d624f01e68c833cdf51477c8a2f841b7860ca4c256a6859f3aea0\n",
      "  Stored in directory: c:\\users\\slava\\appdata\\local\\pip\\cache\\wheels\\e9\\bc\\3a\\8434bdcccf5779e72894a9b24fecbdcaf97940607eaf4bcdf9\n",
      "Successfully built pandasql\n",
      "Installing collected packages: greenlet, sqlalchemy, pandasql\n",
      "Successfully installed greenlet-3.0.3 pandasql-0.7.3 sqlalchemy-2.0.31\n",
      "Requirement already satisfied: pandas in d:\\slavik\\coding\\pycharmprojects\\analysis vk\\.venv\\lib\\site-packages (2.2.2)\n",
      "Requirement already satisfied: numpy>=1.22.4 in d:\\slavik\\coding\\pycharmprojects\\analysis vk\\.venv\\lib\\site-packages (from pandas) (2.0.0)\n",
      "Requirement already satisfied: python-dateutil>=2.8.2 in d:\\slavik\\coding\\pycharmprojects\\analysis vk\\.venv\\lib\\site-packages (from pandas) (2.9.0.post0)\n",
      "Requirement already satisfied: pytz>=2020.1 in d:\\slavik\\coding\\pycharmprojects\\analysis vk\\.venv\\lib\\site-packages (from pandas) (2024.1)\n",
      "Requirement already satisfied: tzdata>=2022.7 in d:\\slavik\\coding\\pycharmprojects\\analysis vk\\.venv\\lib\\site-packages (from pandas) (2024.1)\n",
      "Requirement already satisfied: six>=1.5 in d:\\slavik\\coding\\pycharmprojects\\analysis vk\\.venv\\lib\\site-packages (from python-dateutil>=2.8.2->pandas) (1.16.0)\n",
      "Collecting openpyxl\n",
      "  Using cached openpyxl-3.1.5-py2.py3-none-any.whl.metadata (2.5 kB)\n",
      "Collecting et-xmlfile (from openpyxl)\n",
      "  Using cached et_xmlfile-1.1.0-py3-none-any.whl.metadata (1.8 kB)\n",
      "Using cached openpyxl-3.1.5-py2.py3-none-any.whl (250 kB)\n",
      "Using cached et_xmlfile-1.1.0-py3-none-any.whl (4.7 kB)\n",
      "Installing collected packages: et-xmlfile, openpyxl\n",
      "Successfully installed et-xmlfile-1.1.0 openpyxl-3.1.5\n",
      "Collecting python-docx\n",
      "  Using cached python_docx-1.1.2-py3-none-any.whl.metadata (2.0 kB)\n",
      "Collecting lxml>=3.1.0 (from python-docx)\n",
      "  Downloading lxml-5.2.2-cp310-cp310-win_amd64.whl.metadata (3.5 kB)\n",
      "Requirement already satisfied: typing-extensions>=4.9.0 in d:\\slavik\\coding\\pycharmprojects\\analysis vk\\.venv\\lib\\site-packages (from python-docx) (4.12.2)\n",
      "Using cached python_docx-1.1.2-py3-none-any.whl (244 kB)\n",
      "Downloading lxml-5.2.2-cp310-cp310-win_amd64.whl (3.8 MB)\n",
      "   ---------------------------------------- 0.0/3.8 MB ? eta -:--:--\n",
      "   ---------------------------------------- 0.0/3.8 MB 991.0 kB/s eta 0:00:04\n",
      "   -- ------------------------------------- 0.2/3.8 MB 2.8 MB/s eta 0:00:02\n",
      "   ----- ---------------------------------- 0.5/3.8 MB 4.7 MB/s eta 0:00:01\n",
      "   ----------- ---------------------------- 1.1/3.8 MB 6.9 MB/s eta 0:00:01\n",
      "   ------------------------- -------------- 2.4/3.8 MB 10.9 MB/s eta 0:00:01\n",
      "   ---------------------------------------- 3.8/3.8 MB 16.2 MB/s eta 0:00:00\n",
      "Installing collected packages: lxml, python-docx\n",
      "Successfully installed lxml-5.2.2 python-docx-1.1.2\n",
      "Requirement already satisfied: matplotlib in d:\\slavik\\coding\\pycharmprojects\\analysis vk\\.venv\\lib\\site-packages (3.9.1)\n",
      "Requirement already satisfied: contourpy>=1.0.1 in d:\\slavik\\coding\\pycharmprojects\\analysis vk\\.venv\\lib\\site-packages (from matplotlib) (1.2.1)\n",
      "Requirement already satisfied: cycler>=0.10 in d:\\slavik\\coding\\pycharmprojects\\analysis vk\\.venv\\lib\\site-packages (from matplotlib) (0.12.1)\n",
      "Requirement already satisfied: fonttools>=4.22.0 in d:\\slavik\\coding\\pycharmprojects\\analysis vk\\.venv\\lib\\site-packages (from matplotlib) (4.53.1)\n",
      "Requirement already satisfied: kiwisolver>=1.3.1 in d:\\slavik\\coding\\pycharmprojects\\analysis vk\\.venv\\lib\\site-packages (from matplotlib) (1.4.5)\n",
      "Requirement already satisfied: numpy>=1.23 in d:\\slavik\\coding\\pycharmprojects\\analysis vk\\.venv\\lib\\site-packages (from matplotlib) (2.0.0)\n",
      "Requirement already satisfied: packaging>=20.0 in d:\\slavik\\coding\\pycharmprojects\\analysis vk\\.venv\\lib\\site-packages (from matplotlib) (24.1)\n",
      "Requirement already satisfied: pillow>=8 in d:\\slavik\\coding\\pycharmprojects\\analysis vk\\.venv\\lib\\site-packages (from matplotlib) (10.4.0)\n",
      "Requirement already satisfied: pyparsing>=2.3.1 in d:\\slavik\\coding\\pycharmprojects\\analysis vk\\.venv\\lib\\site-packages (from matplotlib) (3.1.2)\n",
      "Requirement already satisfied: python-dateutil>=2.7 in d:\\slavik\\coding\\pycharmprojects\\analysis vk\\.venv\\lib\\site-packages (from matplotlib) (2.9.0.post0)\n",
      "Requirement already satisfied: six>=1.5 in d:\\slavik\\coding\\pycharmprojects\\analysis vk\\.venv\\lib\\site-packages (from python-dateutil>=2.7->matplotlib) (1.16.0)\n",
      "Requirement already satisfied: seaborn in d:\\slavik\\coding\\pycharmprojects\\analysis vk\\.venv\\lib\\site-packages (0.13.2)\n",
      "Requirement already satisfied: numpy!=1.24.0,>=1.20 in d:\\slavik\\coding\\pycharmprojects\\analysis vk\\.venv\\lib\\site-packages (from seaborn) (2.0.0)\n",
      "Requirement already satisfied: pandas>=1.2 in d:\\slavik\\coding\\pycharmprojects\\analysis vk\\.venv\\lib\\site-packages (from seaborn) (2.2.2)\n",
      "Requirement already satisfied: matplotlib!=3.6.1,>=3.4 in d:\\slavik\\coding\\pycharmprojects\\analysis vk\\.venv\\lib\\site-packages (from seaborn) (3.9.1)\n",
      "Requirement already satisfied: contourpy>=1.0.1 in d:\\slavik\\coding\\pycharmprojects\\analysis vk\\.venv\\lib\\site-packages (from matplotlib!=3.6.1,>=3.4->seaborn) (1.2.1)\n",
      "Requirement already satisfied: cycler>=0.10 in d:\\slavik\\coding\\pycharmprojects\\analysis vk\\.venv\\lib\\site-packages (from matplotlib!=3.6.1,>=3.4->seaborn) (0.12.1)\n",
      "Requirement already satisfied: fonttools>=4.22.0 in d:\\slavik\\coding\\pycharmprojects\\analysis vk\\.venv\\lib\\site-packages (from matplotlib!=3.6.1,>=3.4->seaborn) (4.53.1)\n",
      "Requirement already satisfied: kiwisolver>=1.3.1 in d:\\slavik\\coding\\pycharmprojects\\analysis vk\\.venv\\lib\\site-packages (from matplotlib!=3.6.1,>=3.4->seaborn) (1.4.5)\n",
      "Requirement already satisfied: packaging>=20.0 in d:\\slavik\\coding\\pycharmprojects\\analysis vk\\.venv\\lib\\site-packages (from matplotlib!=3.6.1,>=3.4->seaborn) (24.1)\n",
      "Requirement already satisfied: pillow>=8 in d:\\slavik\\coding\\pycharmprojects\\analysis vk\\.venv\\lib\\site-packages (from matplotlib!=3.6.1,>=3.4->seaborn) (10.4.0)\n",
      "Requirement already satisfied: pyparsing>=2.3.1 in d:\\slavik\\coding\\pycharmprojects\\analysis vk\\.venv\\lib\\site-packages (from matplotlib!=3.6.1,>=3.4->seaborn) (3.1.2)\n",
      "Requirement already satisfied: python-dateutil>=2.7 in d:\\slavik\\coding\\pycharmprojects\\analysis vk\\.venv\\lib\\site-packages (from matplotlib!=3.6.1,>=3.4->seaborn) (2.9.0.post0)\n",
      "Requirement already satisfied: pytz>=2020.1 in d:\\slavik\\coding\\pycharmprojects\\analysis vk\\.venv\\lib\\site-packages (from pandas>=1.2->seaborn) (2024.1)\n",
      "Requirement already satisfied: tzdata>=2022.7 in d:\\slavik\\coding\\pycharmprojects\\analysis vk\\.venv\\lib\\site-packages (from pandas>=1.2->seaborn) (2024.1)\n",
      "Requirement already satisfied: six>=1.5 in d:\\slavik\\coding\\pycharmprojects\\analysis vk\\.venv\\lib\\site-packages (from python-dateutil>=2.7->matplotlib!=3.6.1,>=3.4->seaborn) (1.16.0)\n"
     ]
    }
   ],
   "source": [
    "import os\n",
    "import subprocess\n",
    "\n",
    "os.system('python.exe -m pip install --upgrade pip')\n",
    "version_cmd = 'python --version'\n",
    "result = subprocess.check_output(version_cmd, shell=True, text=True)\n",
    "py_version = result.split('.')\n",
    "py_version = py_version[0][-1] + '.' + py_version[1]\n",
    "\n",
    "\n",
    "! pip{py_version} install pandasql\n",
    "! pip{py_version} install pandas\n",
    "! pip{py_version} install openpyxl\n",
    "! pip{py_version} install python-docx\n",
    "! pip{py_version} install matplotlib\n",
    "! pip{py_version} install seaborn"
   ]
  },
  {
   "cell_type": "code",
   "execution_count": 2,
   "metadata": {},
   "outputs": [],
   "source": [
    "import pandas as pd\n",
    "from pandasql import sqldf\n",
    "import seaborn as sns\n",
    "import matplotlib.pyplot as plt"
   ]
  },
  {
   "cell_type": "code",
   "execution_count": 3,
   "metadata": {
    "tags": []
   },
   "outputs": [],
   "source": [
    "df = pd.read_csv('titanic.csv')"
   ]
  },
  {
   "cell_type": "code",
   "execution_count": 4,
   "metadata": {},
   "outputs": [
    {
     "data": {
      "text/html": [
       "<div>\n",
       "<style scoped>\n",
       "    .dataframe tbody tr th:only-of-type {\n",
       "        vertical-align: middle;\n",
       "    }\n",
       "\n",
       "    .dataframe tbody tr th {\n",
       "        vertical-align: top;\n",
       "    }\n",
       "\n",
       "    .dataframe thead th {\n",
       "        text-align: right;\n",
       "    }\n",
       "</style>\n",
       "<table border=\"1\" class=\"dataframe\">\n",
       "  <thead>\n",
       "    <tr style=\"text-align: right;\">\n",
       "      <th></th>\n",
       "      <th>Survived</th>\n",
       "      <th>Pclass</th>\n",
       "      <th>Name</th>\n",
       "      <th>Sex</th>\n",
       "      <th>Age</th>\n",
       "      <th>Siblings/Spouses Aboard</th>\n",
       "      <th>Parents/Children Aboard</th>\n",
       "      <th>Fare</th>\n",
       "    </tr>\n",
       "  </thead>\n",
       "  <tbody>\n",
       "    <tr>\n",
       "      <th>0</th>\n",
       "      <td>0</td>\n",
       "      <td>3</td>\n",
       "      <td>Mr. Owen Harris Braund</td>\n",
       "      <td>male</td>\n",
       "      <td>22.0</td>\n",
       "      <td>1</td>\n",
       "      <td>0</td>\n",
       "      <td>7.2500</td>\n",
       "    </tr>\n",
       "    <tr>\n",
       "      <th>1</th>\n",
       "      <td>1</td>\n",
       "      <td>1</td>\n",
       "      <td>Mrs. John Bradley (Florence Briggs Thayer) Cum...</td>\n",
       "      <td>female</td>\n",
       "      <td>38.0</td>\n",
       "      <td>1</td>\n",
       "      <td>0</td>\n",
       "      <td>71.2833</td>\n",
       "    </tr>\n",
       "    <tr>\n",
       "      <th>2</th>\n",
       "      <td>1</td>\n",
       "      <td>3</td>\n",
       "      <td>Miss. Laina Heikkinen</td>\n",
       "      <td>female</td>\n",
       "      <td>26.0</td>\n",
       "      <td>0</td>\n",
       "      <td>0</td>\n",
       "      <td>7.9250</td>\n",
       "    </tr>\n",
       "    <tr>\n",
       "      <th>3</th>\n",
       "      <td>1</td>\n",
       "      <td>1</td>\n",
       "      <td>Mrs. Jacques Heath (Lily May Peel) Futrelle</td>\n",
       "      <td>female</td>\n",
       "      <td>35.0</td>\n",
       "      <td>1</td>\n",
       "      <td>0</td>\n",
       "      <td>53.1000</td>\n",
       "    </tr>\n",
       "    <tr>\n",
       "      <th>4</th>\n",
       "      <td>0</td>\n",
       "      <td>3</td>\n",
       "      <td>Mr. William Henry Allen</td>\n",
       "      <td>male</td>\n",
       "      <td>35.0</td>\n",
       "      <td>0</td>\n",
       "      <td>0</td>\n",
       "      <td>8.0500</td>\n",
       "    </tr>\n",
       "    <tr>\n",
       "      <th>...</th>\n",
       "      <td>...</td>\n",
       "      <td>...</td>\n",
       "      <td>...</td>\n",
       "      <td>...</td>\n",
       "      <td>...</td>\n",
       "      <td>...</td>\n",
       "      <td>...</td>\n",
       "      <td>...</td>\n",
       "    </tr>\n",
       "    <tr>\n",
       "      <th>882</th>\n",
       "      <td>0</td>\n",
       "      <td>2</td>\n",
       "      <td>Rev. Juozas Montvila</td>\n",
       "      <td>male</td>\n",
       "      <td>27.0</td>\n",
       "      <td>0</td>\n",
       "      <td>0</td>\n",
       "      <td>13.0000</td>\n",
       "    </tr>\n",
       "    <tr>\n",
       "      <th>883</th>\n",
       "      <td>1</td>\n",
       "      <td>1</td>\n",
       "      <td>Miss. Margaret Edith Graham</td>\n",
       "      <td>female</td>\n",
       "      <td>19.0</td>\n",
       "      <td>0</td>\n",
       "      <td>0</td>\n",
       "      <td>30.0000</td>\n",
       "    </tr>\n",
       "    <tr>\n",
       "      <th>884</th>\n",
       "      <td>0</td>\n",
       "      <td>3</td>\n",
       "      <td>Miss. Catherine Helen Johnston</td>\n",
       "      <td>female</td>\n",
       "      <td>7.0</td>\n",
       "      <td>1</td>\n",
       "      <td>2</td>\n",
       "      <td>23.4500</td>\n",
       "    </tr>\n",
       "    <tr>\n",
       "      <th>885</th>\n",
       "      <td>1</td>\n",
       "      <td>1</td>\n",
       "      <td>Mr. Karl Howell Behr</td>\n",
       "      <td>male</td>\n",
       "      <td>26.0</td>\n",
       "      <td>0</td>\n",
       "      <td>0</td>\n",
       "      <td>30.0000</td>\n",
       "    </tr>\n",
       "    <tr>\n",
       "      <th>886</th>\n",
       "      <td>0</td>\n",
       "      <td>3</td>\n",
       "      <td>Mr. Patrick Dooley</td>\n",
       "      <td>male</td>\n",
       "      <td>32.0</td>\n",
       "      <td>0</td>\n",
       "      <td>0</td>\n",
       "      <td>7.7500</td>\n",
       "    </tr>\n",
       "  </tbody>\n",
       "</table>\n",
       "<p>887 rows × 8 columns</p>\n",
       "</div>"
      ],
      "text/plain": [
       "     Survived  Pclass                                               Name  \\\n",
       "0           0       3                             Mr. Owen Harris Braund   \n",
       "1           1       1  Mrs. John Bradley (Florence Briggs Thayer) Cum...   \n",
       "2           1       3                              Miss. Laina Heikkinen   \n",
       "3           1       1        Mrs. Jacques Heath (Lily May Peel) Futrelle   \n",
       "4           0       3                            Mr. William Henry Allen   \n",
       "..        ...     ...                                                ...   \n",
       "882         0       2                               Rev. Juozas Montvila   \n",
       "883         1       1                        Miss. Margaret Edith Graham   \n",
       "884         0       3                     Miss. Catherine Helen Johnston   \n",
       "885         1       1                               Mr. Karl Howell Behr   \n",
       "886         0       3                                 Mr. Patrick Dooley   \n",
       "\n",
       "        Sex   Age  Siblings/Spouses Aboard  Parents/Children Aboard     Fare  \n",
       "0      male  22.0                        1                        0   7.2500  \n",
       "1    female  38.0                        1                        0  71.2833  \n",
       "2    female  26.0                        0                        0   7.9250  \n",
       "3    female  35.0                        1                        0  53.1000  \n",
       "4      male  35.0                        0                        0   8.0500  \n",
       "..      ...   ...                      ...                      ...      ...  \n",
       "882    male  27.0                        0                        0  13.0000  \n",
       "883  female  19.0                        0                        0  30.0000  \n",
       "884  female   7.0                        1                        2  23.4500  \n",
       "885    male  26.0                        0                        0  30.0000  \n",
       "886    male  32.0                        0                        0   7.7500  \n",
       "\n",
       "[887 rows x 8 columns]"
      ]
     },
     "execution_count": 4,
     "metadata": {},
     "output_type": "execute_result"
    }
   ],
   "source": [
    "# Проверь, что база загрузилась и читается\n",
    "df"
   ]
  },
  {
   "cell_type": "markdown",
   "metadata": {},
   "source": [
    "Это датафрейм \"Титаник\" с информацией о пассажирах на борту корабля:\n",
    "- Survived = 1/0 (1 = выжил при крушении / 0 = нет)\n",
    "- Pclass = класс, которым ехал пассажир (1 - наилучший)\n",
    "- Name = имя пассажира\n",
    "- Sex = пол пассажира\n",
    "- Age = возраст пассажира\n",
    "- Siblings/Spouses Aboard = Кол-во братьев/сестер/супругов на борту у пассажира\n",
    "- Parents/Children Aboard = Кол-во родителей/детей на борту у пассажира\n",
    "- Fare = стоимость билета"
   ]
  },
  {
   "cell_type": "markdown",
   "metadata": {},
   "source": [
    "# SQL"
   ]
  },
  {
   "cell_type": "code",
   "execution_count": 5,
   "metadata": {},
   "outputs": [],
   "source": [
    "# Проверь, что запрос выполняется и возвращает 487 записей\n",
    "\n",
    "query = 'Select count(distinct Name) as nmb from df where Pclass = 3'"
   ]
  },
  {
   "cell_type": "code",
   "execution_count": 6,
   "metadata": {},
   "outputs": [
    {
     "data": {
      "text/html": [
       "<div>\n",
       "<style scoped>\n",
       "    .dataframe tbody tr th:only-of-type {\n",
       "        vertical-align: middle;\n",
       "    }\n",
       "\n",
       "    .dataframe tbody tr th {\n",
       "        vertical-align: top;\n",
       "    }\n",
       "\n",
       "    .dataframe thead th {\n",
       "        text-align: right;\n",
       "    }\n",
       "</style>\n",
       "<table border=\"1\" class=\"dataframe\">\n",
       "  <thead>\n",
       "    <tr style=\"text-align: right;\">\n",
       "      <th></th>\n",
       "      <th>nmb</th>\n",
       "    </tr>\n",
       "  </thead>\n",
       "  <tbody>\n",
       "    <tr>\n",
       "      <th>0</th>\n",
       "      <td>487</td>\n",
       "    </tr>\n",
       "  </tbody>\n",
       "</table>\n",
       "</div>"
      ],
      "text/plain": [
       "   nmb\n",
       "0  487"
      ]
     },
     "execution_count": 6,
     "metadata": {},
     "output_type": "execute_result"
    }
   ],
   "source": [
    "sqldf(query)"
   ]
  },
  {
   "cell_type": "markdown",
   "metadata": {},
   "source": [
    "Далее нужно написать запросы на SQL, которые отвечают на вопрос из задания"
   ]
  },
  {
   "cell_type": "markdown",
   "metadata": {},
   "source": [
    "### Task 1"
   ]
  },
  {
   "cell_type": "markdown",
   "metadata": {},
   "source": [
    "1.1. Есть ли выжившие пассажиры возрастом от 20 до 30 лет, одного пола, летевшие одним классом? \n",
    "Вывести группы и кол-во пассажиров в них\n",
    "\n",
    "1.2. А есть ли выжившие пассажиры возрастом от 20 до 30 лет, одного пола, летевшие одним классом, у которых средняя стоимость билета отклоняется не более, чем на 10% от средней цены билета по всем пассажирам. \n",
    "Вывести группы, кол-во пассажиров в них, среднюю цену билета в группе и среднюю цену билета по всем пассажирам"
   ]
  },
  {
   "cell_type": "code",
   "execution_count": 7,
   "metadata": {},
   "outputs": [
    {
     "data": {
      "text/html": [
       "<div>\n",
       "<style scoped>\n",
       "    .dataframe tbody tr th:only-of-type {\n",
       "        vertical-align: middle;\n",
       "    }\n",
       "\n",
       "    .dataframe tbody tr th {\n",
       "        vertical-align: top;\n",
       "    }\n",
       "\n",
       "    .dataframe thead th {\n",
       "        text-align: right;\n",
       "    }\n",
       "</style>\n",
       "<table border=\"1\" class=\"dataframe\">\n",
       "  <thead>\n",
       "    <tr style=\"text-align: right;\">\n",
       "      <th></th>\n",
       "      <th>Pclass</th>\n",
       "      <th>Sex</th>\n",
       "      <th>Group Size</th>\n",
       "    </tr>\n",
       "  </thead>\n",
       "  <tbody>\n",
       "    <tr>\n",
       "      <th>0</th>\n",
       "      <td>1</td>\n",
       "      <td>female</td>\n",
       "      <td>21</td>\n",
       "    </tr>\n",
       "    <tr>\n",
       "      <th>1</th>\n",
       "      <td>1</td>\n",
       "      <td>male</td>\n",
       "      <td>10</td>\n",
       "    </tr>\n",
       "    <tr>\n",
       "      <th>2</th>\n",
       "      <td>2</td>\n",
       "      <td>female</td>\n",
       "      <td>25</td>\n",
       "    </tr>\n",
       "    <tr>\n",
       "      <th>3</th>\n",
       "      <td>2</td>\n",
       "      <td>male</td>\n",
       "      <td>2</td>\n",
       "    </tr>\n",
       "    <tr>\n",
       "      <th>4</th>\n",
       "      <td>3</td>\n",
       "      <td>female</td>\n",
       "      <td>30</td>\n",
       "    </tr>\n",
       "    <tr>\n",
       "      <th>5</th>\n",
       "      <td>3</td>\n",
       "      <td>male</td>\n",
       "      <td>20</td>\n",
       "    </tr>\n",
       "  </tbody>\n",
       "</table>\n",
       "</div>"
      ],
      "text/plain": [
       "   Pclass     Sex  Group Size\n",
       "0       1  female          21\n",
       "1       1    male          10\n",
       "2       2  female          25\n",
       "3       2    male           2\n",
       "4       3  female          30\n",
       "5       3    male          20"
      ]
     },
     "execution_count": 7,
     "metadata": {},
     "output_type": "execute_result"
    }
   ],
   "source": [
    "\n",
    "task1 = 'SELECT Pclass, Sex, COUNT(*) as \"Group Size\" FROM df WHERE Age BETWEEN 20 AND 30 AND Survived = 1 GROUP BY Pclass, Sex'\n",
    "\n",
    "sqldf(task1)"
   ]
  },
  {
   "cell_type": "markdown",
   "metadata": {},
   "source": [
    "1.2 Таких выживших нет. Первый код показывает сведения о пассажирах, которые выжили от 20 до 30 и среднюю цену по группам и в целом."
   ]
  },
  {
   "cell_type": "code",
   "execution_count": 8,
   "metadata": {},
   "outputs": [
    {
     "data": {
      "text/html": [
       "<div>\n",
       "<style scoped>\n",
       "    .dataframe tbody tr th:only-of-type {\n",
       "        vertical-align: middle;\n",
       "    }\n",
       "\n",
       "    .dataframe tbody tr th {\n",
       "        vertical-align: top;\n",
       "    }\n",
       "\n",
       "    .dataframe thead th {\n",
       "        text-align: right;\n",
       "    }\n",
       "</style>\n",
       "<table border=\"1\" class=\"dataframe\">\n",
       "  <thead>\n",
       "    <tr style=\"text-align: right;\">\n",
       "      <th></th>\n",
       "      <th>Pclass</th>\n",
       "      <th>Sex</th>\n",
       "      <th>Group Size</th>\n",
       "      <th>Group Price</th>\n",
       "      <th>AVG Price</th>\n",
       "    </tr>\n",
       "  </thead>\n",
       "  <tbody>\n",
       "    <tr>\n",
       "      <th>0</th>\n",
       "      <td>1</td>\n",
       "      <td>female</td>\n",
       "      <td>21</td>\n",
       "      <td>110.487300</td>\n",
       "      <td>32.30542</td>\n",
       "    </tr>\n",
       "    <tr>\n",
       "      <th>1</th>\n",
       "      <td>1</td>\n",
       "      <td>male</td>\n",
       "      <td>10</td>\n",
       "      <td>49.195840</td>\n",
       "      <td>32.30542</td>\n",
       "    </tr>\n",
       "    <tr>\n",
       "      <th>2</th>\n",
       "      <td>2</td>\n",
       "      <td>female</td>\n",
       "      <td>25</td>\n",
       "      <td>21.479168</td>\n",
       "      <td>32.30542</td>\n",
       "    </tr>\n",
       "    <tr>\n",
       "      <th>3</th>\n",
       "      <td>2</td>\n",
       "      <td>male</td>\n",
       "      <td>2</td>\n",
       "      <td>13.431250</td>\n",
       "      <td>32.30542</td>\n",
       "    </tr>\n",
       "    <tr>\n",
       "      <th>4</th>\n",
       "      <td>3</td>\n",
       "      <td>female</td>\n",
       "      <td>30</td>\n",
       "      <td>11.172500</td>\n",
       "      <td>32.30542</td>\n",
       "    </tr>\n",
       "    <tr>\n",
       "      <th>5</th>\n",
       "      <td>3</td>\n",
       "      <td>male</td>\n",
       "      <td>20</td>\n",
       "      <td>11.666665</td>\n",
       "      <td>32.30542</td>\n",
       "    </tr>\n",
       "  </tbody>\n",
       "</table>\n",
       "</div>"
      ],
      "text/plain": [
       "   Pclass     Sex  Group Size  Group Price  AVG Price\n",
       "0       1  female          21   110.487300   32.30542\n",
       "1       1    male          10    49.195840   32.30542\n",
       "2       2  female          25    21.479168   32.30542\n",
       "3       2    male           2    13.431250   32.30542\n",
       "4       3  female          30    11.172500   32.30542\n",
       "5       3    male          20    11.666665   32.30542"
      ]
     },
     "execution_count": 8,
     "metadata": {},
     "output_type": "execute_result"
    }
   ],
   "source": [
    "task12 = \"\"\"\n",
    "WITH AveragePrice AS (\n",
    "SELECT AVG(Fare) as AvgPrice FROM df\n",
    ")\n",
    "\n",
    "SELECT Pclass, Sex, Count(*) as \"Group Size\", \n",
    "AVG(Fare) AS \"Group Price\",\n",
    "ap.AvgPrice as \"AVG Price\"\n",
    "FROM df CROSS JOIN AveragePrice ap\n",
    "WHERE Age BETWEEN 20 and 30 AND \n",
    "Survived = 1 \n",
    "GROUP BY Pclass, Sex\n",
    "\n",
    "\"\"\"\n",
    "\n",
    "sqldf(task12)"
   ]
  },
  {
   "cell_type": "markdown",
   "metadata": {},
   "source": [
    "Данный код демонстрирует отсутствие групп, в которых средняя цена отличается не более, чем на 10% от средней цены среди всех пассажиров"
   ]
  },
  {
   "cell_type": "code",
   "execution_count": 9,
   "metadata": {},
   "outputs": [
    {
     "data": {
      "text/html": [
       "<div>\n",
       "<style scoped>\n",
       "    .dataframe tbody tr th:only-of-type {\n",
       "        vertical-align: middle;\n",
       "    }\n",
       "\n",
       "    .dataframe tbody tr th {\n",
       "        vertical-align: top;\n",
       "    }\n",
       "\n",
       "    .dataframe thead th {\n",
       "        text-align: right;\n",
       "    }\n",
       "</style>\n",
       "<table border=\"1\" class=\"dataframe\">\n",
       "  <thead>\n",
       "    <tr style=\"text-align: right;\">\n",
       "      <th></th>\n",
       "      <th>Pclass</th>\n",
       "      <th>Sex</th>\n",
       "      <th>Group Size</th>\n",
       "      <th>group_price</th>\n",
       "      <th>avg_price</th>\n",
       "    </tr>\n",
       "  </thead>\n",
       "  <tbody>\n",
       "  </tbody>\n",
       "</table>\n",
       "</div>"
      ],
      "text/plain": [
       "Empty DataFrame\n",
       "Columns: [Pclass, Sex, Group Size, group_price, avg_price]\n",
       "Index: []"
      ]
     },
     "execution_count": 9,
     "metadata": {},
     "output_type": "execute_result"
    }
   ],
   "source": [
    "task12 = \"\"\"\n",
    "WITH AveragePrice AS (\n",
    "SELECT AVG(Fare) as AvgPrice FROM df\n",
    ")\n",
    "\n",
    "SELECT Pclass, Sex, Count(*) as \"Group Size\", \n",
    "AVG(Fare) AS group_price,\n",
    "ap.AvgPrice as avg_price\n",
    "FROM df CROSS JOIN AveragePrice ap\n",
    "WHERE Age BETWEEN 20 and 30 AND \n",
    "Survived = 1 \n",
    "GROUP BY Pclass, Sex\n",
    "HAVING ABS(group_price - avg_price) / avg_price <=  0.1;\n",
    "\"\"\"\n",
    "\n",
    "sqldf(task12)"
   ]
  },
  {
   "cell_type": "markdown",
   "metadata": {},
   "source": [
    "### Task 2"
   ]
  },
  {
   "cell_type": "markdown",
   "metadata": {},
   "source": [
    "2. Сколько пассажиров летело в возрасте 0-19, 20-29, 30-39, 40-49 и 50+ лет каждого пола, \n",
    "посчитать долю каждой группы от общего числа пассажиров и среднюю стоимость билета для каждой группы? \n",
    "(округление может некорректно отрабатывать, оставить округление до целых)"
   ]
  },
  {
   "cell_type": "markdown",
   "metadata": {},
   "source": [
    "'SQLite' при делении целых чисел отдаёт также целое число, поэтому для получения десятичной дроби, необходимо хотя бы 1 аргумент привести к типу с плавающей точкой (`REAL`)."
   ]
  },
  {
   "cell_type": "code",
   "execution_count": 10,
   "metadata": {},
   "outputs": [
    {
     "data": {
      "text/html": [
       "<div>\n",
       "<style scoped>\n",
       "    .dataframe tbody tr th:only-of-type {\n",
       "        vertical-align: middle;\n",
       "    }\n",
       "\n",
       "    .dataframe tbody tr th {\n",
       "        vertical-align: top;\n",
       "    }\n",
       "\n",
       "    .dataframe thead th {\n",
       "        text-align: right;\n",
       "    }\n",
       "</style>\n",
       "<table border=\"1\" class=\"dataframe\">\n",
       "  <thead>\n",
       "    <tr style=\"text-align: right;\">\n",
       "      <th></th>\n",
       "      <th>Sex</th>\n",
       "      <th>AgeGroup</th>\n",
       "      <th>Group Size</th>\n",
       "      <th>percentage</th>\n",
       "      <th>AVG Price</th>\n",
       "    </tr>\n",
       "  </thead>\n",
       "  <tbody>\n",
       "    <tr>\n",
       "      <th>0</th>\n",
       "      <td>female</td>\n",
       "      <td>0-19</td>\n",
       "      <td>89</td>\n",
       "      <td>10.0</td>\n",
       "      <td>34.0</td>\n",
       "    </tr>\n",
       "    <tr>\n",
       "      <th>1</th>\n",
       "      <td>male</td>\n",
       "      <td>0-19</td>\n",
       "      <td>110</td>\n",
       "      <td>12.0</td>\n",
       "      <td>26.0</td>\n",
       "    </tr>\n",
       "    <tr>\n",
       "      <th>2</th>\n",
       "      <td>female</td>\n",
       "      <td>20-29</td>\n",
       "      <td>92</td>\n",
       "      <td>10.0</td>\n",
       "      <td>35.0</td>\n",
       "    </tr>\n",
       "    <tr>\n",
       "      <th>3</th>\n",
       "      <td>male</td>\n",
       "      <td>20-29</td>\n",
       "      <td>201</td>\n",
       "      <td>23.0</td>\n",
       "      <td>18.0</td>\n",
       "    </tr>\n",
       "    <tr>\n",
       "      <th>4</th>\n",
       "      <td>female</td>\n",
       "      <td>30-39</td>\n",
       "      <td>68</td>\n",
       "      <td>8.0</td>\n",
       "      <td>54.0</td>\n",
       "    </tr>\n",
       "    <tr>\n",
       "      <th>5</th>\n",
       "      <td>male</td>\n",
       "      <td>30-39</td>\n",
       "      <td>131</td>\n",
       "      <td>15.0</td>\n",
       "      <td>28.0</td>\n",
       "    </tr>\n",
       "    <tr>\n",
       "      <th>6</th>\n",
       "      <td>female</td>\n",
       "      <td>40-49</td>\n",
       "      <td>42</td>\n",
       "      <td>5.0</td>\n",
       "      <td>59.0</td>\n",
       "    </tr>\n",
       "    <tr>\n",
       "      <th>7</th>\n",
       "      <td>male</td>\n",
       "      <td>40-49</td>\n",
       "      <td>72</td>\n",
       "      <td>8.0</td>\n",
       "      <td>32.0</td>\n",
       "    </tr>\n",
       "    <tr>\n",
       "      <th>8</th>\n",
       "      <td>female</td>\n",
       "      <td>50+</td>\n",
       "      <td>23</td>\n",
       "      <td>3.0</td>\n",
       "      <td>64.0</td>\n",
       "    </tr>\n",
       "    <tr>\n",
       "      <th>9</th>\n",
       "      <td>male</td>\n",
       "      <td>50+</td>\n",
       "      <td>59</td>\n",
       "      <td>7.0</td>\n",
       "      <td>35.0</td>\n",
       "    </tr>\n",
       "  </tbody>\n",
       "</table>\n",
       "</div>"
      ],
      "text/plain": [
       "      Sex AgeGroup  Group Size  percentage  AVG Price\n",
       "0  female     0-19          89        10.0       34.0\n",
       "1    male     0-19         110        12.0       26.0\n",
       "2  female    20-29          92        10.0       35.0\n",
       "3    male    20-29         201        23.0       18.0\n",
       "4  female    30-39          68         8.0       54.0\n",
       "5    male    30-39         131        15.0       28.0\n",
       "6  female    40-49          42         5.0       59.0\n",
       "7    male    40-49          72         8.0       32.0\n",
       "8  female      50+          23         3.0       64.0\n",
       "9    male      50+          59         7.0       35.0"
      ]
     },
     "execution_count": 10,
     "metadata": {},
     "output_type": "execute_result"
    }
   ],
   "source": [
    "task2 = \"\"\"\n",
    "WITH CountPassengers AS (\n",
    "SELECT COUNT(*) as all_passengers \n",
    "FROM df\n",
    ")\n",
    "\n",
    "SELECT \n",
    "  Sex, AgeGroup, COUNT(*) AS \"Group Size\",\n",
    "  ROUND(CAST(COUNT(*) AS REAL) / all_passengers * 100) AS percentage, \n",
    "  ROUND(AVG(Fare)) AS \"AVG Price\"\n",
    "\n",
    "FROM (\n",
    "      SELECT Sex, \n",
    "      CASE \n",
    "        WHEN Age < 20 THEN '0-19'\n",
    "        WHEN Age < 30 THEN '20-29'\n",
    "        WHEN Age < 40 THEN '30-39'\n",
    "        WHEN Age < 50 THEN '40-49'\n",
    "        ELSE '50+'\n",
    "      END AS AgeGroup,\n",
    "      Fare FROM df\n",
    "      ) \n",
    "    AS subquery\n",
    "    CROSS JOIN CountPassengers\n",
    "\n",
    "GROUP BY Sex, AgeGroup\n",
    "ORDER BY AgeGroup, Sex;\n",
    "\"\"\"\n",
    "\n",
    "\n",
    "sqldf(task2)"
   ]
  },
  {
   "cell_type": "markdown",
   "metadata": {},
   "source": [
    "### Task 3"
   ]
  },
  {
   "cell_type": "markdown",
   "metadata": {},
   "source": [
    "3. Посчитать кол-во пассажиров, обращение к которым указано как \"Mrs\" и аналогично для \"Miss\". Вывести так же максимальный, минимальный и средний возраст для групп"
   ]
  },
  {
   "cell_type": "code",
   "execution_count": 11,
   "metadata": {},
   "outputs": [
    {
     "data": {
      "text/html": [
       "<div>\n",
       "<style scoped>\n",
       "    .dataframe tbody tr th:only-of-type {\n",
       "        vertical-align: middle;\n",
       "    }\n",
       "\n",
       "    .dataframe tbody tr th {\n",
       "        vertical-align: top;\n",
       "    }\n",
       "\n",
       "    .dataframe thead th {\n",
       "        text-align: right;\n",
       "    }\n",
       "</style>\n",
       "<table border=\"1\" class=\"dataframe\">\n",
       "  <thead>\n",
       "    <tr style=\"text-align: right;\">\n",
       "      <th></th>\n",
       "      <th>Prefix</th>\n",
       "      <th>Group Size</th>\n",
       "      <th>Maximal age</th>\n",
       "      <th>Minimal age</th>\n",
       "      <th>AVG age</th>\n",
       "    </tr>\n",
       "  </thead>\n",
       "  <tbody>\n",
       "    <tr>\n",
       "      <th>0</th>\n",
       "      <td>Miss</td>\n",
       "      <td>182</td>\n",
       "      <td>63.0</td>\n",
       "      <td>0.75</td>\n",
       "      <td>21.994505</td>\n",
       "    </tr>\n",
       "    <tr>\n",
       "      <th>1</th>\n",
       "      <td>Mrs</td>\n",
       "      <td>125</td>\n",
       "      <td>63.0</td>\n",
       "      <td>14.00</td>\n",
       "      <td>35.768000</td>\n",
       "    </tr>\n",
       "  </tbody>\n",
       "</table>\n",
       "</div>"
      ],
      "text/plain": [
       "  Prefix  Group Size  Maximal age  Minimal age    AVG age\n",
       "0   Miss         182         63.0         0.75  21.994505\n",
       "1    Mrs         125         63.0        14.00  35.768000"
      ]
     },
     "execution_count": 11,
     "metadata": {},
     "output_type": "execute_result"
    }
   ],
   "source": [
    "task3 = \"\"\"\n",
    "WITH Prefix AS\n",
    "(SELECT Name,\n",
    "    CASE \n",
    "        WHEN Name LIKE 'Mrs%' THEN 'Mrs'\n",
    "        WHEN Name LIKE 'Miss%' THEN 'Miss'\n",
    "        ELSE NULL\n",
    "    END AS prefix_type\n",
    "FROM df\n",
    ")\n",
    "\n",
    "SELECT prefix_type as Prefix,\n",
    "COUNT(*) as \"Group Size\", \n",
    "MAX(Age) as \"Maximal age\",\n",
    "MIN(Age) as \"Minimal age\",\n",
    "AVG(Age) as \"AVG age\"\n",
    "FROM df JOIN Prefix on df.Name = Prefix.Name\n",
    "WHERE prefix_type IS NOT NULL\n",
    "GROUP BY  prefix_type\n",
    "\"\"\"\n",
    "\n",
    "\n",
    "sqldf(task3)"
   ]
  },
  {
   "cell_type": "markdown",
   "metadata": {},
   "source": [
    "# Python"
   ]
  },
  {
   "cell_type": "code",
   "execution_count": 12,
   "metadata": {},
   "outputs": [],
   "source": [
    "file = 'test2.xlsx'\n",
    "df = pd.read_excel(file, engine='openpyxl')"
   ]
  },
  {
   "cell_type": "code",
   "execution_count": 13,
   "metadata": {},
   "outputs": [
    {
     "data": {
      "text/html": [
       "<div>\n",
       "<style scoped>\n",
       "    .dataframe tbody tr th:only-of-type {\n",
       "        vertical-align: middle;\n",
       "    }\n",
       "\n",
       "    .dataframe tbody tr th {\n",
       "        vertical-align: top;\n",
       "    }\n",
       "\n",
       "    .dataframe thead th {\n",
       "        text-align: right;\n",
       "    }\n",
       "</style>\n",
       "<table border=\"1\" class=\"dataframe\">\n",
       "  <thead>\n",
       "    <tr style=\"text-align: right;\">\n",
       "      <th></th>\n",
       "      <th>loan_id</th>\n",
       "      <th>app_status</th>\n",
       "      <th>reason</th>\n",
       "    </tr>\n",
       "  </thead>\n",
       "  <tbody>\n",
       "    <tr>\n",
       "      <th>0</th>\n",
       "      <td>996</td>\n",
       "      <td>declined</td>\n",
       "      <td>Rule1</td>\n",
       "    </tr>\n",
       "    <tr>\n",
       "      <th>1</th>\n",
       "      <td>996</td>\n",
       "      <td>declined</td>\n",
       "      <td>Rule2</td>\n",
       "    </tr>\n",
       "    <tr>\n",
       "      <th>2</th>\n",
       "      <td>996</td>\n",
       "      <td>declined</td>\n",
       "      <td>Rule3</td>\n",
       "    </tr>\n",
       "    <tr>\n",
       "      <th>3</th>\n",
       "      <td>996</td>\n",
       "      <td>declined</td>\n",
       "      <td>Rule4</td>\n",
       "    </tr>\n",
       "    <tr>\n",
       "      <th>4</th>\n",
       "      <td>996</td>\n",
       "      <td>declined</td>\n",
       "      <td>Rule5</td>\n",
       "    </tr>\n",
       "    <tr>\n",
       "      <th>...</th>\n",
       "      <td>...</td>\n",
       "      <td>...</td>\n",
       "      <td>...</td>\n",
       "    </tr>\n",
       "    <tr>\n",
       "      <th>831</th>\n",
       "      <td>15</td>\n",
       "      <td>declined</td>\n",
       "      <td>Rule5</td>\n",
       "    </tr>\n",
       "    <tr>\n",
       "      <th>832</th>\n",
       "      <td>14</td>\n",
       "      <td>approved</td>\n",
       "      <td>NaN</td>\n",
       "    </tr>\n",
       "    <tr>\n",
       "      <th>833</th>\n",
       "      <td>8</td>\n",
       "      <td>approved</td>\n",
       "      <td>NaN</td>\n",
       "    </tr>\n",
       "    <tr>\n",
       "      <th>834</th>\n",
       "      <td>7</td>\n",
       "      <td>approved</td>\n",
       "      <td>NaN</td>\n",
       "    </tr>\n",
       "    <tr>\n",
       "      <th>835</th>\n",
       "      <td>3</td>\n",
       "      <td>approved</td>\n",
       "      <td>NaN</td>\n",
       "    </tr>\n",
       "  </tbody>\n",
       "</table>\n",
       "<p>836 rows × 3 columns</p>\n",
       "</div>"
      ],
      "text/plain": [
       "     loan_id app_status reason\n",
       "0        996   declined  Rule1\n",
       "1        996   declined  Rule2\n",
       "2        996   declined  Rule3\n",
       "3        996   declined  Rule4\n",
       "4        996   declined  Rule5\n",
       "..       ...        ...    ...\n",
       "831       15   declined  Rule5\n",
       "832       14   approved    NaN\n",
       "833        8   approved    NaN\n",
       "834        7   approved    NaN\n",
       "835        3   approved    NaN\n",
       "\n",
       "[836 rows x 3 columns]"
      ]
     },
     "execution_count": 13,
     "metadata": {},
     "output_type": "execute_result"
    }
   ],
   "source": [
    "# Проверь, что база загрузилась и читается\n",
    "df"
   ]
  },
  {
   "cell_type": "markdown",
   "metadata": {},
   "source": [
    "Это датафрейм с заявками на кредит и решением для них: одобрить или отказать, а так же причина отказа.\n",
    "- loan_id = номер заявки\n",
    "- app_status = решение по заявке (одобрить или отказать)\n",
    "- reason = номер причины отказа (по одной заявке может срабатывать несколько причин)"
   ]
  },
  {
   "cell_type": "markdown",
   "metadata": {},
   "source": [
    "Далее нужно написать код на Python, которые отвечают на вопрос из задания"
   ]
  },
  {
   "cell_type": "markdown",
   "metadata": {},
   "source": [
    "### Task 4"
   ]
  },
  {
   "cell_type": "markdown",
   "metadata": {},
   "source": [
    "1. Посчитать Approval Rate (кол-во одобренных анкет ко всем) в % и вывести кол-во одобренных анкет (approved уникальны, decline - нет)\n",
    "2. Посчитать кол-во отказных анкет и вывести % срабатывания каждого правила относительно всех отказов? Какие 3 правила чаще всего срабатывают в отказах?"
   ]
  },
  {
   "cell_type": "code",
   "execution_count": 14,
   "metadata": {},
   "outputs": [
    {
     "name": "stdout",
     "output_type": "stream",
     "text": [
      "Approval Rate: 42.2%\n",
      "Кол-во одобренных анкет: 353\n"
     ]
    }
   ],
   "source": [
    "all_requests = len(df)\n",
    "approved = df[df['app_status'] == 'approved']\n",
    "\n",
    "cnt_approved = len(approved)\n",
    "percentage = (cnt_approved / all_requests) * 100\n",
    "\n",
    "print(f\"Approval Rate: {percentage:.1f}%\")\n",
    "print(f\"Кол-во одобренных анкет: {cnt_approved}\")"
   ]
  },
  {
   "cell_type": "code",
   "execution_count": 15,
   "metadata": {},
   "outputs": [
    {
     "name": "stdout",
     "output_type": "stream",
     "text": [
      "Количество отказных анкет всего: 483\n",
      "Количество уникальных отказных анкет (повторение правил не учитывается): 212\n",
      "Правило Rule1: 7.7%\n",
      "Правило Rule2: 9.7%\n",
      "Правило Rule3: 10.6%\n",
      "Правило Rule4: 10.4%\n",
      "Правило Rule5: 11.8%\n",
      "Правило Rule6: 11.4%\n",
      "Правило Rule7: 11.0%\n",
      "Правило Rule8: 11.0%\n",
      "Правило Rule9: 7.9%\n",
      "Правило Rule10: 8.5%\n",
      "Правило Rule11: 0.2%\n"
     ]
    }
   ],
   "source": [
    "def sort_func(index: pd.Index):\n",
    "    res = []\n",
    "    for rule in index:\n",
    "        key = int(rule[rule.find('Rule') + 4:])\n",
    "        res.append(key)\n",
    "\n",
    "    return res\n",
    "\n",
    "    \n",
    "canceled = df[df['app_status'] == 'declined']\n",
    "\n",
    "cnt_uniq_canceled = len(canceled.loan_id.unique())\n",
    "cnt_all_canceled = len(canceled)\n",
    "reasons = canceled.reason.value_counts().sort_index(key = sort_func)\n",
    "\n",
    "\n",
    "print(f\"Количество отказных анкет всего: {cnt_all_canceled}\")\n",
    "print(f\"Количество уникальных отказных анкет (повторение правил не учитывается): {cnt_uniq_canceled}\")\n",
    "\n",
    "percentage = (reasons / cnt_all_canceled) * 100\n",
    "\n",
    "for rule, percent in percentage.items():\n",
    "    print(f\"Правило {rule}: {percent:.1f}%\")\n"
   ]
  },
  {
   "cell_type": "markdown",
   "metadata": {},
   "source": [
    "### Task 5"
   ]
  },
  {
   "cell_type": "markdown",
   "metadata": {},
   "source": [
    "В датафрейме ниже лежат данные по клиентам и их задолженности:\n",
    "- Numb = номер записи (= номер документа)\n",
    "- Client = имя клиента\n",
    "- OSZ = Сумма задолженности \n",
    "- peny = пени"
   ]
  },
  {
   "cell_type": "code",
   "execution_count": 16,
   "metadata": {},
   "outputs": [],
   "source": [
    "df_docx = {\n",
    "    'Numb':[102,103,104],\n",
    "    'Client':['БББ.Б.Б','ВВВВВ.В','ГГ.Г.ГГ'],\n",
    "    'OSZ':[1200000, 500000, 3000000],\n",
    "    'peny':[1500,1000,2500]\n",
    "}"
   ]
  },
  {
   "cell_type": "code",
   "execution_count": 17,
   "metadata": {},
   "outputs": [],
   "source": [
    "df_docx = pd.DataFrame(df_docx)"
   ]
  },
  {
   "cell_type": "code",
   "execution_count": 18,
   "metadata": {},
   "outputs": [
    {
     "data": {
      "text/html": [
       "<div>\n",
       "<style scoped>\n",
       "    .dataframe tbody tr th:only-of-type {\n",
       "        vertical-align: middle;\n",
       "    }\n",
       "\n",
       "    .dataframe tbody tr th {\n",
       "        vertical-align: top;\n",
       "    }\n",
       "\n",
       "    .dataframe thead th {\n",
       "        text-align: right;\n",
       "    }\n",
       "</style>\n",
       "<table border=\"1\" class=\"dataframe\">\n",
       "  <thead>\n",
       "    <tr style=\"text-align: right;\">\n",
       "      <th></th>\n",
       "      <th>Numb</th>\n",
       "      <th>Client</th>\n",
       "      <th>OSZ</th>\n",
       "      <th>peny</th>\n",
       "    </tr>\n",
       "  </thead>\n",
       "  <tbody>\n",
       "    <tr>\n",
       "      <th>0</th>\n",
       "      <td>102</td>\n",
       "      <td>БББ.Б.Б</td>\n",
       "      <td>1200000</td>\n",
       "      <td>1500</td>\n",
       "    </tr>\n",
       "    <tr>\n",
       "      <th>1</th>\n",
       "      <td>103</td>\n",
       "      <td>ВВВВВ.В</td>\n",
       "      <td>500000</td>\n",
       "      <td>1000</td>\n",
       "    </tr>\n",
       "    <tr>\n",
       "      <th>2</th>\n",
       "      <td>104</td>\n",
       "      <td>ГГ.Г.ГГ</td>\n",
       "      <td>3000000</td>\n",
       "      <td>2500</td>\n",
       "    </tr>\n",
       "  </tbody>\n",
       "</table>\n",
       "</div>"
      ],
      "text/plain": [
       "   Numb   Client      OSZ  peny\n",
       "0   102  БББ.Б.Б  1200000  1500\n",
       "1   103  ВВВВВ.В   500000  1000\n",
       "2   104  ГГ.Г.ГГ  3000000  2500"
      ]
     },
     "execution_count": 18,
     "metadata": {},
     "output_type": "execute_result"
    }
   ],
   "source": [
    "df_docx"
   ]
  },
  {
   "cell_type": "markdown",
   "metadata": {},
   "source": [
    "В файле Шаблон.docx нужно заменить выделенные данные на данные датафрема выше и сохранить новые файлы (один файл - под каждую запись, исходный файл не затирать, сохранить форматирование сумм в рублях)"
   ]
  },
  {
   "cell_type": "markdown",
   "metadata": {},
   "source": [
    "Неразрывный пробел обработать не получилось "
   ]
  },
  {
   "cell_type": "code",
   "execution_count": 19,
   "metadata": {},
   "outputs": [],
   "source": [
    "from docx import Document\n",
    "import re\n",
    "\n",
    "\n",
    "template_path = \"Шаблон 101.docx\"\n",
    "\n",
    "def find_non_breaking_number(number, text):\n",
    "\n",
    "    match = re.search(number, text)\n",
    "    return match is not None\n",
    "\n",
    "# Форматирование запятой даёт дробить числа по тысячам\n",
    "def format_rub(amount):\n",
    "    return f\"{amount:,}\".replace(\",\", \" \")\n",
    "\n",
    "def reformat_files(template, df):\n",
    "\n",
    "    for _, row in df.iterrows():\n",
    "        doc = Document(template)\n",
    "\n",
    "        doc_num = '101'\n",
    "        client_name = 'АААА. А. А.'\n",
    "        amount_of_debt = r'1 000\\u00A0000'\n",
    "        penalties = r'1\\u00A0000'\n",
    "\n",
    "        for paragraph in doc.paragraphs:\n",
    "\n",
    "            if doc_num in paragraph.text:\n",
    "                paragraph.text = paragraph.text.replace(doc_num, str(row['Numb']))\n",
    "            if client_name in paragraph.text:\n",
    "                paragraph.text = paragraph.text.replace(client_name, row['Client'])\n",
    "\n",
    "            if find_non_breaking_number(amount_of_debt, paragraph.text) \\\n",
    "                and find_non_breaking_number(penalties, paragraph.text):\n",
    "\n",
    "                debt, penalty = paragraph.text.split(',')\n",
    "                debt = re.sub(amount_of_debt, format_rub(row['OSZ']), debt)\n",
    "                penalty = re.sub(penalties, format_rub(row['peny']), penalty)\n",
    "                \n",
    "                paragraph.text = f\"{debt},{penalty}\"\n",
    "\n",
    "        new_file_path = f\"Документ_{row['Numb']}.docx\"\n",
    "        doc.save(new_file_path)\n",
    "\n",
    "reformat_files(template_path, df_docx)"
   ]
  },
  {
   "cell_type": "markdown",
   "metadata": {},
   "source": [
    "### Task 6"
   ]
  },
  {
   "cell_type": "markdown",
   "metadata": {},
   "source": [
    "Используя датасет titanic.csv создать визуализацию в виде нормированной гистограммы отражающую распределение выживших пассажиров (мужчин и женщин) по возрастам с шагом в 5 лет, при этом исключить из выборки тех кто старше 60 и тех кто младше 5. При этом на одну картинку вывести в т.ч. Total по выборке. \n",
    "\n",
    "Ответом будет служить картинка вида (+ python код который эту визуализацию строит):"
   ]
  },
  {
   "cell_type": "code",
   "execution_count": 51,
   "metadata": {},
   "outputs": [
    {
     "name": "stderr",
     "output_type": "stream",
     "text": [
      "C:\\Users\\slava\\AppData\\Local\\Temp\\ipykernel_12600\\3931253998.py:7: SettingWithCopyWarning: \n",
      "A value is trying to be set on a copy of a slice from a DataFrame.\n",
      "Try using .loc[row_indexer,col_indexer] = value instead\n",
      "\n",
      "See the caveats in the documentation: https://pandas.pydata.org/pandas-docs/stable/user_guide/indexing.html#returning-a-view-versus-a-copy\n",
      "  filtered_data['AgeGroup'] = pd.cut(filtered_data['Age'], bins=age_bins, right=False)\n",
      "C:\\Users\\slava\\AppData\\Local\\Temp\\ipykernel_12600\\3931253998.py:9: FutureWarning: The default of observed=False is deprecated and will be changed to True in a future version of pandas. Pass observed=False to retain current behavior or observed=True to adopt the future default and silence this warning.\n",
      "  age_sex_grouped = filtered_data[filtered_data['Survived'] == 1].groupby(['Sex', 'AgeGroup']).size().unstack(fill_value=0)\n",
      "C:\\Users\\slava\\AppData\\Local\\Temp\\ipykernel_12600\\3931253998.py:12: FutureWarning: The default of observed=False is deprecated and will be changed to True in a future version of pandas. Pass observed=False to retain current behavior or observed=True to adopt the future default and silence this warning.\n",
      "  total_grouped = filtered_data[filtered_data['Survived'] == 1].groupby(['AgeGroup']).size()\n"
     ]
    },
    {
     "data": {
      "image/png": "[encoded data removed]",
      "text/plain": [
       "<Figure size 640x480 with 1 Axes>"
      ]
     },
     "metadata": {},
     "output_type": "display_data"
    }
   ],
   "source": [
    "file_path = 'titanic.csv'\n",
    "titanic_data = pd.read_csv(file_path)\n",
    "\n",
    "filtered_data = titanic_data[(titanic_data['Age'] <= 60) & (titanic_data['Age'] >= 5)]\n",
    "age_bins = range(5, 65, 5)\n",
    "\n",
    "filtered_data['AgeGroup'] = pd.cut(filtered_data['Age'], bins=age_bins, right=False)\n",
    "\n",
    "age_sex_grouped = filtered_data[filtered_data['Survived'] == 1].groupby(['Sex', 'AgeGroup']).size().unstack(fill_value=0)\n",
    "\n",
    "\n",
    "total_grouped = filtered_data[filtered_data['Survived'] == 1].groupby(['AgeGroup']).size()\n",
    "age_sex_grouped_norm = age_sex_grouped.div(age_sex_grouped.sum(axis=1), axis=0) * 100\n",
    "total_grouped_norm = (total_grouped / total_grouped.sum()) * 100\n",
    "\n",
    "combined_data = pd.concat([age_sex_grouped_norm.T, total_grouped_norm.rename('Total')], axis=1).T\n",
    "\n",
    "fig, ax = plt.subplots()\n",
    "combined_data.plot(kind='bar', stacked=True, ax=ax, colormap='tab20', width=0.6)\n",
    "ax.set_title('Титаник - распределение выживших по возрастам')\n",
    "ax.set_xlabel('Пол')\n",
    "ax.set_ylabel('Процент выживших')\n",
    "ax.legend(title='Возраст', bbox_to_anchor=(1.05, 1), loc='upper left')\n",
    "plt.xticks([0, 1, 2], ['female', 'male', 'Total'])\n",
    "plt.ylim(0, 100)\n",
    "plt.show()"
   ]
  },
  {
   "cell_type": "markdown",
   "metadata": {},
   "source": [
    "![Titanic](Titanic_hist.png) "
   ]
  },
  {
   "cell_type": "markdown",
   "metadata": {},
   "source": [
    "Используя датасет titanic.csv вывести таблцу Survival Rate для мужчин и для женщин старше 20 лет. Полученную таблицу записать в файл формата .xlsx.\n",
    "\n",
    "\n",
    "Ответом будет служить .xlsx (+ python код который эту визуализацию строит) файл с записанным в него результатом:"
   ]
  },
  {
   "cell_type": "code",
   "execution_count": 67,
   "metadata": {},
   "outputs": [
    {
     "data": {
      "text/html": [
       "<div>\n",
       "<style scoped>\n",
       "    .dataframe tbody tr th:only-of-type {\n",
       "        vertical-align: middle;\n",
       "    }\n",
       "\n",
       "    .dataframe tbody tr th {\n",
       "        vertical-align: top;\n",
       "    }\n",
       "\n",
       "    .dataframe thead th {\n",
       "        text-align: right;\n",
       "    }\n",
       "</style>\n",
       "<table border=\"1\" class=\"dataframe\">\n",
       "  <thead>\n",
       "    <tr style=\"text-align: right;\">\n",
       "      <th></th>\n",
       "      <th>Sex</th>\n",
       "      <th>RIP</th>\n",
       "      <th>Survived</th>\n",
       "      <th>Total</th>\n",
       "    </tr>\n",
       "  </thead>\n",
       "  <tbody>\n",
       "    <tr>\n",
       "      <th>0</th>\n",
       "      <td>female</td>\n",
       "      <td>22.072072</td>\n",
       "      <td>77.927928</td>\n",
       "      <td>100%</td>\n",
       "    </tr>\n",
       "    <tr>\n",
       "      <th>1</th>\n",
       "      <td>male</td>\n",
       "      <td>82.844244</td>\n",
       "      <td>17.155756</td>\n",
       "      <td>100%</td>\n",
       "    </tr>\n",
       "    <tr>\n",
       "      <th>2</th>\n",
       "      <td>Total</td>\n",
       "      <td>62.556391</td>\n",
       "      <td>37.443609</td>\n",
       "      <td>100%</td>\n",
       "    </tr>\n",
       "  </tbody>\n",
       "</table>\n",
       "</div>"
      ],
      "text/plain": [
       "      Sex        RIP   Survived Total\n",
       "0  female  22.072072  77.927928  100%\n",
       "1    male  82.844244  17.155756  100%\n",
       "2   Total  62.556391  37.443609  100%"
      ]
     },
     "execution_count": 67,
     "metadata": {},
     "output_type": "execute_result"
    }
   ],
   "source": [
    "file_path = 'titanic.csv'\n",
    "df = pd.read_csv(file_path)\n",
    "\n",
    "res = pd.DataFrame()\n",
    "adults_df = df[df['Age'] > 20]\n",
    "\n",
    "survival_counts = adults_df.groupby('Sex').agg({'Survived': ['sum', 'count']})\n",
    "\n",
    "cnt_surv = survival_counts['Survived']['sum']\n",
    "cnt_all = survival_counts['Survived']['count']\n",
    "\n",
    "res['RIP'] = ((cnt_all - cnt_surv) / cnt_all) * 100\n",
    "res['Survived'] = (cnt_surv / cnt_all) * 100\n",
    "res['Total'] = '100%'\n",
    "cnt_surv = adults_df['Survived'].sum()\n",
    "cnt_all = adults_df['Survived'].count()\n",
    "total_rip = ((cnt_all - cnt_surv) / cnt_all) * 100\n",
    "total_surv = (cnt_surv / cnt_all) * 100\n",
    "\n",
    "res.loc['Total'] = [total_rip, total_surv, '100%']\n",
    "\n",
    "res = res.reset_index()\n",
    "\n",
    "# Сохраняем таблицу в файл .xlsx\n",
    "res.to_excel('survival_rate_by_gender.xlsx', index=False)"
   ]
  },
  {
   "cell_type": "markdown",
   "metadata": {},
   "source": [
    "![Titanic_sr](Titanic_SR.png) "
   ]
  },
  {
   "cell_type": "markdown",
   "metadata": {},
   "source": [
    "### Task 7"
   ]
  },
  {
   "cell_type": "markdown",
   "metadata": {},
   "source": [
    "Используя датасет построить корреляцию между возрастом, полом и Survival Rate'ом пассажиров титаника, визуализовать это в виде кривых и описать полученные результаты в виде краткой аналитической записки. "
   ]
  },
  {
   "cell_type": "code",
   "execution_count": 23,
   "metadata": {},
   "outputs": [
    {
     "name": "stderr",
     "output_type": "stream",
     "text": [
      "C:\\Users\\slava\\AppData\\Local\\Temp\\ipykernel_12600\\4055925154.py:2: FutureWarning: A value is trying to be set on a copy of a DataFrame or Series through chained assignment using an inplace method.\n",
      "The behavior will change in pandas 3.0. This inplace method will never work because the intermediate object on which we are setting values always behaves as a copy.\n",
      "\n",
      "For example, when doing 'df[col].method(value, inplace=True)', try using 'df.method({col: value}, inplace=True)' or df[col] = df[col].method(value) instead, to perform the operation inplace on the original object.\n",
      "\n",
      "\n",
      "  data['Age'].fillna(data.groupby(['Sex'])['Age'].transform('median'), inplace=True)\n",
      "C:\\Users\\slava\\AppData\\Local\\Temp\\ipykernel_12600\\4055925154.py:9: FutureWarning: The default of observed=False is deprecated and will be changed to True in a future version of pandas. Pass observed=False to retain current behavior or observed=True to adopt the future default and silence this warning.\n",
      "  survival_rates = data.groupby(['AgeGroup', 'Sex'])['Survived'].mean()\n"
     ]
    },
    {
     "data": {
      "image/png": "[encoded data removed]",
      "text/plain": [
       "<Figure size 1500x600 with 2 Axes>"
      ]
     },
     "metadata": {},
     "output_type": "display_data"
    }
   ],
   "source": [
    "data = pd.read_csv('titanic.csv')\n",
    "data['Age'].fillna(data.groupby(['Sex'])['Age'].transform('median'), inplace=True)\n",
    "\n",
    "\n",
    "age_bins = [0, 10, 20, 30, 40, 50, 60, 70, 80]\n",
    "age_labels = ['0-10', '10-20', '20-30', '30-40', '40-50', '50-60', '60-70', '70-80']\n",
    "data['AgeGroup'] = pd.cut(data['Age'], bins=age_bins, labels=age_labels)\n",
    "\n",
    "survival_rates = data.groupby(['AgeGroup', 'Sex'])['Survived'].mean()\n",
    "fig, axs = plt.subplots(1, 2, figsize=(15, 6))\n",
    "\n",
    "# Для женщин\n",
    "sns.regplot(x=\"Age\", y=\"Survived\", data=data[data['Sex'] == 'female'], ax=axs[0], scatter_kws={'alpha': 0.6})\n",
    "axs[0].set_title('Survival Rate по возрасту для женщин')\n",
    "axs[0].set_xlabel('Возраст')\n",
    "axs[0].set_ylabel('Survival Rate')\n",
    "\n",
    "# Для мужчин\n",
    "sns.regplot(x=\"Age\", y=\"Survived\", data=data[data['Sex'] == 'male'], ax=axs[1], scatter_kws={'alpha': 0.6})\n",
    "axs[1].set_title('Survival Rate по возрасту для мужчин')\n",
    "axs[1].set_xlabel('Возраст')\n",
    "axs[1].set_ylabel('Survival Rate')\n",
    "\n",
    "plt.tight_layout()\n",
    "plt.show()\n"
   ]
  },
  {
   "cell_type": "markdown",
   "metadata": {},
   "source": [
    "Аналитическая записка:\n",
    "\n",
    "1. Вероятность выживания женщин была значительно выше, чем у мужчин, во всех возрастных группах.\n",
    "2. Вероятность выживания стабильно снижалась с возрастом, особенно это происходило акцентированно у мужчин.\n",
    "3. Одна из самых высоких вероятностей выживания у группы детей от 0 до 10 лет\n",
    "4. Можно заметить, что вероятность выживания женщин и детей всюду выше, это логично, исходя из того, что женщинам и детям всегда уступают, как слабому полу и возрасту, в котором только начинается жизнь."
   ]
  }
 ],
 "metadata": {
  "kernelspec": {
   "display_name": "Python 3 (ipykernel)",
   "language": "python",
   "name": "python3"
  },
  "language_info": {
   "codemirror_mode": {
    "name": "ipython",
    "version": 3
   },
   "file_extension": ".py",
   "mimetype": "text/x-python",
   "name": "python",
   "nbconvert_exporter": "python",
   "pygments_lexer": "ipython3",
   "version": "3.8.10"
  },
  "toc": {
   "base_numbering": 1,
   "nav_menu": {},
   "number_sections": false,
   "sideBar": false,
   "skip_h1_title": false,
   "title_cell": "Table of Contents",
   "title_sidebar": "Contents",
   "toc_cell": false,
   "toc_position": {},
   "toc_section_display": false,
   "toc_window_display": false
  }
 },
 "nbformat": 4,
 "nbformat_minor": 4
}
